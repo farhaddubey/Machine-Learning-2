{
 "cells": [
  {
   "cell_type": "markdown",
   "id": "643a69cd",
   "metadata": {
    "ExecuteTime": {
     "end_time": "2024-03-16T03:52:02.180220Z",
     "start_time": "2024-03-16T03:52:02.174487Z"
    }
   },
   "source": [
    "<h3 style=\"color:cyan\">Entropy is the ML metric that measures the unpredictibility or the impurity in the system</h3>\n",
    "<p style=\"color:yellow\">Inforamtion Gain is defined as the pattern observed in the dataset and reductioin in the Entropy\n",
    "</p>\n",
    "<li>Information Gain=(Entropy of Parnet Node) - (Entropy of child Node)</li>"
   ]
  },
  {
   "cell_type": "code",
   "execution_count": null,
   "id": "cf9f28ee",
   "metadata": {},
   "outputs": [],
   "source": []
  }
 ],
 "metadata": {
  "kernelspec": {
   "display_name": "Python 3 (ipykernel)",
   "language": "python",
   "name": "python3"
  },
  "language_info": {
   "codemirror_mode": {
    "name": "ipython",
    "version": 3
   },
   "file_extension": ".py",
   "mimetype": "text/x-python",
   "name": "python",
   "nbconvert_exporter": "python",
   "pygments_lexer": "ipython3",
   "version": "3.11.5"
  },
  "toc": {
   "base_numbering": 1,
   "nav_menu": {},
   "number_sections": true,
   "sideBar": true,
   "skip_h1_title": false,
   "title_cell": "Table of Contents",
   "title_sidebar": "Contents",
   "toc_cell": false,
   "toc_position": {},
   "toc_section_display": true,
   "toc_window_display": false
  },
  "varInspector": {
   "cols": {
    "lenName": 16,
    "lenType": 16,
    "lenVar": 40
   },
   "kernels_config": {
    "python": {
     "delete_cmd_postfix": "",
     "delete_cmd_prefix": "del ",
     "library": "var_list.py",
     "varRefreshCmd": "print(var_dic_list())"
    },
    "r": {
     "delete_cmd_postfix": ") ",
     "delete_cmd_prefix": "rm(",
     "library": "var_list.r",
     "varRefreshCmd": "cat(var_dic_list()) "
    }
   },
   "types_to_exclude": [
    "module",
    "function",
    "builtin_function_or_method",
    "instance",
    "_Feature"
   ],
   "window_display": false
  }
 },
 "nbformat": 4,
 "nbformat_minor": 5
}
