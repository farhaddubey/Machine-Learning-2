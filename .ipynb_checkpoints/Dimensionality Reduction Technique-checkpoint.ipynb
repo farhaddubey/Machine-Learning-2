{
 "cells": [
  {
   "cell_type": "code",
   "execution_count": 1,
   "id": "61b45938",
   "metadata": {
    "ExecuteTime": {
     "end_time": "2024-03-16T03:03:33.296156Z",
     "start_time": "2024-03-16T03:03:33.292708Z"
    }
   },
   "outputs": [],
   "source": [
    "import warnings\n",
    "warnings.filterwarnings('ignore')"
   ]
  },
  {
   "cell_type": "markdown",
   "id": "1c895d06",
   "metadata": {},
   "source": [
    "<h3 style=\"color:red\">No. of input features, variables, or columns present in a given dataset is known as dimensionality,\n",
    "    </br>& the process to reduce this function is called Dimensionality Reduction</h3>\n",
    "<p style=\"color:yellow\">It's difficult to make predictions for training dataset with huge no. of features, that's why \n",
    "    dimensionality reduction is performed</p>"
   ]
  },
  {
   "cell_type": "markdown",
   "id": "636ace3f",
   "metadata": {
    "ExecuteTime": {
     "end_time": "2024-03-16T03:12:22.625311Z",
     "start_time": "2024-03-16T03:12:22.617255Z"
    }
   },
   "source": [
    "<p style=\"color:blue\">Dimensionality Reduction: is a way of converting the higher dimnesions dataset into lesser \n",
    "    dimnesions dataset ensuring that it provides similar information</p>\n",
    "<h1 style=\"color:cyan\">Dimensionality Reduction Technique</h1>\n",
    "<p style=\"color:blue\"><strong>Feature Selection</strong></p>\n",
    "<li>Missing Value Ration</li>\n",
    "<li>Low Variance Filter</li>\n",
    "<li>High Correlation Filter</li>\n",
    "<li>Random Forest</li>\n",
    "<li>Backward Feature Extraction</li>\n",
    "<li>Forward Feature Selection</li>\n",
    "<p style=\"color:blue\"><b>Dimensionality Reduction</b></p>\n",
    "<li><b>Components/Factor Based</b></li>\n",
    "<li>Factor Analysis</li>\n",
    "<li>Principle Component Analysis</li>\n",
    "<li>Independent Component Analysis</li>\n",
    "<li><b>Projection Based</b></li>\n",
    "<li>ISOMAP</li>\n",
    "<li>t-SNE</li>\n",
    "<li>UMAP</li>"
   ]
  },
  {
   "cell_type": "code",
   "execution_count": null,
   "id": "52e0524c",
   "metadata": {},
   "outputs": [],
   "source": []
  }
 ],
 "metadata": {
  "kernelspec": {
   "display_name": "Python 3 (ipykernel)",
   "language": "python",
   "name": "python3"
  },
  "language_info": {
   "codemirror_mode": {
    "name": "ipython",
    "version": 3
   },
   "file_extension": ".py",
   "mimetype": "text/x-python",
   "name": "python",
   "nbconvert_exporter": "python",
   "pygments_lexer": "ipython3",
   "version": "3.11.5"
  },
  "toc": {
   "base_numbering": 1,
   "nav_menu": {},
   "number_sections": true,
   "sideBar": true,
   "skip_h1_title": false,
   "title_cell": "Table of Contents",
   "title_sidebar": "Contents",
   "toc_cell": false,
   "toc_position": {},
   "toc_section_display": true,
   "toc_window_display": false
  },
  "varInspector": {
   "cols": {
    "lenName": 16,
    "lenType": 16,
    "lenVar": 40
   },
   "kernels_config": {
    "python": {
     "delete_cmd_postfix": "",
     "delete_cmd_prefix": "del ",
     "library": "var_list.py",
     "varRefreshCmd": "print(var_dic_list())"
    },
    "r": {
     "delete_cmd_postfix": ") ",
     "delete_cmd_prefix": "rm(",
     "library": "var_list.r",
     "varRefreshCmd": "cat(var_dic_list()) "
    }
   },
   "types_to_exclude": [
    "module",
    "function",
    "builtin_function_or_method",
    "instance",
    "_Feature"
   ],
   "window_display": false
  }
 },
 "nbformat": 4,
 "nbformat_minor": 5
}
