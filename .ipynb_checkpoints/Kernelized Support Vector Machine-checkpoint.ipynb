{
 "cells": [
  {
   "cell_type": "code",
   "execution_count": 1,
   "id": "410570f5",
   "metadata": {
    "ExecuteTime": {
     "end_time": "2024-03-03T10:59:36.371979Z",
     "start_time": "2024-03-03T10:59:36.367904Z"
    }
   },
   "outputs": [],
   "source": [
    "# Kernelized Support Vector Machine are an extension of SVMs that allows for more complex model that are not defined by \n",
    "# hyperplanes in the input plane"
   ]
  },
  {
   "cell_type": "markdown",
   "id": "ea5c2f5a",
   "metadata": {},
   "source": [
    "Linear Model and nonLinear Features"
   ]
  },
  {
   "cell_type": "markdown",
   "id": "487ae8a5",
   "metadata": {},
   "source": [
    "Using the  synthetic dataset \"Feature Importance in trees\""
   ]
  },
  {
   "cell_type": "code",
   "execution_count": null,
   "id": "6f350493",
   "metadata": {},
   "outputs": [],
   "source": [
    "import matplotlib.pyplot as plt\n",
    "import mgle\n",
    "\n",
    "X, y = make_blobs(center=4, random_state=8)\n",
    "y=y%2\n",
    "mglearn.discrete_scatter(X[:, 0], X[:, 1], y)\n",
    "plt.xlabel(\"Feature 0\")\n",
    "plt.ylabel(\"Feature 1\")"
   ]
  }
 ],
 "metadata": {
  "kernelspec": {
   "display_name": "Python 3 (ipykernel)",
   "language": "python",
   "name": "python3"
  },
  "language_info": {
   "codemirror_mode": {
    "name": "ipython",
    "version": 3
   },
   "file_extension": ".py",
   "mimetype": "text/x-python",
   "name": "python",
   "nbconvert_exporter": "python",
   "pygments_lexer": "ipython3",
   "version": "3.11.5"
  },
  "toc": {
   "base_numbering": 1,
   "nav_menu": {},
   "number_sections": true,
   "sideBar": true,
   "skip_h1_title": false,
   "title_cell": "Table of Contents",
   "title_sidebar": "Contents",
   "toc_cell": false,
   "toc_position": {},
   "toc_section_display": true,
   "toc_window_display": false
  },
  "varInspector": {
   "cols": {
    "lenName": 16,
    "lenType": 16,
    "lenVar": 40
   },
   "kernels_config": {
    "python": {
     "delete_cmd_postfix": "",
     "delete_cmd_prefix": "del ",
     "library": "var_list.py",
     "varRefreshCmd": "print(var_dic_list())"
    },
    "r": {
     "delete_cmd_postfix": ") ",
     "delete_cmd_prefix": "rm(",
     "library": "var_list.r",
     "varRefreshCmd": "cat(var_dic_list()) "
    }
   },
   "types_to_exclude": [
    "module",
    "function",
    "builtin_function_or_method",
    "instance",
    "_Feature"
   ],
   "window_display": false
  }
 },
 "nbformat": 4,
 "nbformat_minor": 5
}
