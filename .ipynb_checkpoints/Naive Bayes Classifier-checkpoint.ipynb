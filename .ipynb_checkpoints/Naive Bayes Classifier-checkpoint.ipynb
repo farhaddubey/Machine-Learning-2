{
 "cells": [
  {
   "cell_type": "code",
   "execution_count": 2,
   "id": "a1ade1b4",
   "metadata": {
    "ExecuteTime": {
     "end_time": "2024-03-06T03:57:07.499391Z",
     "start_time": "2024-03-06T03:57:07.489694Z"
    }
   },
   "outputs": [
    {
     "data": {
      "text/html": [
       "<h1 style=\"color:red\">Naive Bayes Classification</h1>\n",
       "<p style=\"color:yellow\">Gaussian NB</p>: can be applied to Continuous data\n",
       "<p style=\"color:blue\">Bernoulli NB</p>: binary data\n",
       "<p style=\"color:pink\">Multinomial NB</p>: assumes count data, count of occurrence like a word in a sentence\n"
      ],
      "text/plain": [
       "<IPython.core.display.HTML object>"
      ]
     },
     "metadata": {},
     "output_type": "display_data"
    }
   ],
   "source": [
    "%%html\n",
    "<h1 style=\"color:red\">Naive Bayes Classification</h1>\n",
    "<p style=\"color:yellow\">Gaussian NB</p>: can be applied to Continuous data\n",
    "<p style=\"color:blue\">Bernoulli NB</p>: binary data\n",
    "<p style=\"color:pink\">Multinomial NB</p>: assumes count data, count of occurrence like a word in a sentence"
   ]
  },
  {
   "cell_type": "code",
   "execution_count": 1,
   "id": "07404659",
   "metadata": {
    "ExecuteTime": {
     "end_time": "2024-03-06T06:45:16.004552Z",
     "start_time": "2024-03-06T06:45:15.994867Z"
    }
   },
   "outputs": [
    {
     "data": {
      "text/html": [
       "<h3 style=\"color:yellow\">Looking at the Effect of PrePruning</h3>\n"
      ],
      "text/plain": [
       "<IPython.core.display.HTML object>"
      ]
     },
     "metadata": {},
     "output_type": "display_data"
    }
   ],
   "source": [
    "%%html\n",
    "<h3 style=\"color:yellow\">Looking at the Effect of PrePruning</h3>"
   ]
  },
  {
   "cell_type": "code",
   "execution_count": 4,
   "id": "85a57eed",
   "metadata": {
    "ExecuteTime": {
     "end_time": "2024-03-06T07:19:51.209913Z",
     "start_time": "2024-03-06T07:19:51.184964Z"
    }
   },
   "outputs": [
    {
     "ename": "NameError",
     "evalue": "name 'load_breat_cancer' is not defined",
     "output_type": "error",
     "traceback": [
      "\u001b[1;31m---------------------------------------------------------------------------\u001b[0m",
      "\u001b[1;31mNameError\u001b[0m                                 Traceback (most recent call last)",
      "Cell \u001b[1;32mIn[4], line 3\u001b[0m\n\u001b[0;32m      1\u001b[0m \u001b[38;5;28;01mfrom\u001b[39;00m \u001b[38;5;21;01msklearn\u001b[39;00m\u001b[38;5;21;01m.\u001b[39;00m\u001b[38;5;21;01mtree\u001b[39;00m \u001b[38;5;28;01mimport\u001b[39;00m DecisionTreeClassifier\n\u001b[0;32m      2\u001b[0m \u001b[38;5;28;01mfrom\u001b[39;00m \u001b[38;5;21;01msklearn\u001b[39;00m\u001b[38;5;21;01m.\u001b[39;00m\u001b[38;5;21;01mdatasets\u001b[39;00m \u001b[38;5;28;01mimport\u001b[39;00m load_breast_cancer\n\u001b[1;32m----> 3\u001b[0m cancer\u001b[38;5;241m=\u001b[39mload_breat_cancer()\n\u001b[0;32m      4\u001b[0m X_train, x_test, y_train, y_test \u001b[38;5;241m=\u001b[39m train_test_split(cancer\u001b[38;5;241m.\u001b[39mdata, cancer\u001b[38;5;241m.\u001b[39mtarget, stratify\u001b[38;5;241m=\u001b[39mcancer\u001b[38;5;241m.\u001b[39mtarget, random_state\u001b[38;5;241m=\u001b[39m\u001b[38;5;241m42\u001b[39m)\n\u001b[0;32m      5\u001b[0m tree\u001b[38;5;241m=\u001b[39mDecisionTreeClassifier(random_state\u001b[38;5;241m=\u001b[39m\u001b[38;5;241m0\u001b[39m)\n",
      "\u001b[1;31mNameError\u001b[0m: name 'load_breat_cancer' is not defined"
     ]
    }
   ],
   "source": [
    "from sklearn.tree import DecisionTreeClassifier\n",
    "from sklearn.datasets import load_breast_cancer\n",
    "cancer=load_breat_cancer()\n",
    "X_train, x_test, y_train, y_test = train_test_split(cancer.data, cancer.target, stratify=cancer.target, random_state=42)\n",
    "tree=DecisionTreeClassifier(random_state=0)\n",
    "tree.fit(X_train, y_train)\n",
    "print(\"Accuracy on Training set\", tree.score(X_train, y_train))\n",
    "print(\"Accuracy on test set: {.3f}\".format(tree.score(X_test, y_test)))"
   ]
  },
  {
   "cell_type": "raw",
   "id": "b01b30ed",
   "metadata": {},
   "source": []
  }
 ],
 "metadata": {
  "kernelspec": {
   "display_name": "Python 3 (ipykernel)",
   "language": "python",
   "name": "python3"
  },
  "language_info": {
   "codemirror_mode": {
    "name": "ipython",
    "version": 3
   },
   "file_extension": ".py",
   "mimetype": "text/x-python",
   "name": "python",
   "nbconvert_exporter": "python",
   "pygments_lexer": "ipython3",
   "version": "3.11.5"
  },
  "toc": {
   "base_numbering": 1,
   "nav_menu": {},
   "number_sections": true,
   "sideBar": true,
   "skip_h1_title": false,
   "title_cell": "Table of Contents",
   "title_sidebar": "Contents",
   "toc_cell": false,
   "toc_position": {},
   "toc_section_display": true,
   "toc_window_display": false
  },
  "varInspector": {
   "cols": {
    "lenName": 16,
    "lenType": 16,
    "lenVar": 40
   },
   "kernels_config": {
    "python": {
     "delete_cmd_postfix": "",
     "delete_cmd_prefix": "del ",
     "library": "var_list.py",
     "varRefreshCmd": "print(var_dic_list())"
    },
    "r": {
     "delete_cmd_postfix": ") ",
     "delete_cmd_prefix": "rm(",
     "library": "var_list.r",
     "varRefreshCmd": "cat(var_dic_list()) "
    }
   },
   "types_to_exclude": [
    "module",
    "function",
    "builtin_function_or_method",
    "instance",
    "_Feature"
   ],
   "window_display": false
  }
 },
 "nbformat": 4,
 "nbformat_minor": 5
}
