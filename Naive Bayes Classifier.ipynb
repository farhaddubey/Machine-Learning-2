{
 "cells": [
  {
   "cell_type": "code",
   "execution_count": 4,
   "id": "a1ade1b4",
   "metadata": {
    "ExecuteTime": {
     "end_time": "2024-03-06T09:13:34.448633Z",
     "start_time": "2024-03-06T09:13:34.439868Z"
    }
   },
   "outputs": [
    {
     "data": {
      "text/html": [
       "<h1 style=\"color:red\">Naive Bayes Classification</h1>\n",
       "<p style=\"color:yellow\">Gaussian NB</p>: can be applied to Continuous data\n",
       "<p style=\"color:blue\">Bernoulli NB</p>: binary data\n",
       "<p style=\"color:pink\">Multinomial NB</p>: assumes count data, count of occurrence like a word in a sentence\n"
      ],
      "text/plain": [
       "<IPython.core.display.HTML object>"
      ]
     },
     "metadata": {},
     "output_type": "display_data"
    }
   ],
   "source": [
    "%%html\n",
    "<h1 style=\"color:red\">Naive Bayes Classification</h1>\n",
    "<p style=\"color:yellow\">Gaussian NB</p>: can be applied to Continuous data\n",
    "<p style=\"color:blue\">Bernoulli NB</p>: binary data\n",
    "<p style=\"color:pink\">Multinomial NB</p>: assumes count data, count of occurrence like a word in a sentence"
   ]
  },
  {
   "cell_type": "code",
   "execution_count": 5,
   "id": "07404659",
   "metadata": {
    "ExecuteTime": {
     "end_time": "2024-03-06T09:13:35.388619Z",
     "start_time": "2024-03-06T09:13:35.377874Z"
    }
   },
   "outputs": [
    {
     "data": {
      "text/html": [
       "<h3 style=\"color:yellow\">Looking at the Effect of PrePruning</h3>\n"
      ],
      "text/plain": [
       "<IPython.core.display.HTML object>"
      ]
     },
     "metadata": {},
     "output_type": "display_data"
    }
   ],
   "source": [
    "%%html\n",
    "<h3 style=\"color:yellow\">Looking at the Effect of PrePruning</h3>"
   ]
  },
  {
   "cell_type": "code",
   "execution_count": 6,
   "id": "6685cb86",
   "metadata": {
    "ExecuteTime": {
     "end_time": "2024-03-06T09:13:46.038818Z",
     "start_time": "2024-03-06T09:13:36.479983Z"
    }
   },
   "outputs": [
    {
     "name": "stdout",
     "output_type": "stream",
     "text": [
      "Accuracy on Training set 1.0\n",
      "Accuracy on test set: 0.937\n"
     ]
    },
    {
     "data": {
      "text/plain": [
       "array([0, 0, 0, 0, 0, 0, 0, 0, 0, 0, 0, 0, 0, 0, 0, 0, 0, 0, 0, 1, 1, 1,\n",
       "       0, 0, 0, 0, 0, 0, 0, 0, 0, 0, 0, 0, 0, 0, 0, 1, 0, 0, 0, 0, 0, 0,\n",
       "       0, 0, 1, 0, 1, 1, 1, 1, 1, 0, 0, 1, 0, 0, 1, 1, 1, 1, 0, 1, 0, 0,\n",
       "       1, 1, 1, 1, 0, 1, 0, 0, 1, 0, 1, 0, 0, 1, 1, 1, 0, 0, 1, 0, 0, 0,\n",
       "       1, 1, 1, 0, 1, 1, 0, 0, 1, 1, 1, 0, 0, 1, 1, 1, 1, 0, 1, 1, 0, 1,\n",
       "       1, 1, 1, 1, 1, 1, 1, 0, 0, 0, 1, 0, 0, 1, 1, 1, 0, 0, 1, 0, 1, 0,\n",
       "       0, 1, 0, 0, 1, 1, 0, 1, 1, 0, 1, 1, 1, 1, 0, 1, 1, 1, 1, 1, 1, 1,\n",
       "       1, 1, 0, 1, 1, 1, 1, 0, 0, 1, 0, 1, 1, 0, 0, 1, 1, 0, 0, 1, 1, 1,\n",
       "       1, 0, 1, 1, 0, 0, 0, 1, 0, 1, 0, 1, 1, 1, 0, 1, 1, 0, 0, 1, 0, 0,\n",
       "       0, 0, 1, 0, 0, 0, 1, 0, 1, 0, 1, 1, 0, 1, 0, 0, 0, 0, 1, 1, 0, 0,\n",
       "       1, 1, 1, 0, 1, 1, 1, 1, 1, 0, 0, 1, 1, 0, 1, 1, 0, 0, 1, 0, 1, 1,\n",
       "       1, 1, 0, 1, 1, 1, 1, 1, 0, 1, 0, 0, 0, 0, 0, 0, 0, 0, 0, 0, 0, 0,\n",
       "       0, 0, 1, 1, 1, 1, 1, 1, 0, 1, 0, 1, 1, 0, 1, 1, 0, 1, 0, 0, 1, 1,\n",
       "       1, 1, 1, 1, 1, 1, 1, 1, 1, 1, 1, 0, 1, 1, 0, 1, 0, 1, 1, 1, 1, 1,\n",
       "       1, 1, 1, 1, 1, 1, 1, 1, 1, 0, 1, 1, 1, 0, 1, 0, 1, 1, 1, 1, 0, 0,\n",
       "       0, 1, 1, 1, 1, 0, 1, 0, 1, 0, 1, 1, 1, 0, 1, 1, 1, 1, 1, 1, 1, 0,\n",
       "       0, 0, 1, 1, 1, 1, 1, 1, 1, 1, 1, 1, 1, 0, 0, 1, 0, 0, 0, 1, 0, 0,\n",
       "       1, 1, 1, 1, 1, 0, 1, 1, 1, 1, 1, 0, 1, 1, 1, 0, 1, 1, 0, 0, 1, 1,\n",
       "       1, 1, 1, 1, 0, 1, 1, 1, 1, 1, 1, 1, 0, 1, 1, 1, 1, 1, 0, 1, 1, 0,\n",
       "       1, 1, 1, 1, 1, 1, 1, 1, 1, 1, 1, 1, 0, 1, 0, 0, 1, 0, 1, 1, 1, 1,\n",
       "       1, 0, 1, 1, 0, 1, 0, 1, 1, 0, 1, 0, 1, 1, 1, 1, 1, 1, 1, 1, 0, 0,\n",
       "       1, 1, 1, 1, 1, 1, 0, 1, 1, 1, 1, 1, 1, 1, 1, 1, 1, 0, 1, 1, 1, 1,\n",
       "       1, 1, 1, 0, 1, 0, 1, 1, 0, 1, 1, 1, 1, 1, 0, 0, 1, 0, 1, 0, 1, 1,\n",
       "       1, 1, 1, 0, 1, 1, 0, 1, 0, 1, 0, 0, 1, 1, 1, 0, 1, 1, 1, 1, 1, 1,\n",
       "       1, 1, 1, 1, 1, 0, 1, 0, 0, 1, 1, 1, 1, 1, 1, 1, 1, 1, 1, 1, 1, 1,\n",
       "       1, 1, 1, 1, 1, 1, 1, 1, 1, 1, 1, 1, 0, 0, 0, 0, 0, 0, 1])"
      ]
     },
     "execution_count": 6,
     "metadata": {},
     "output_type": "execute_result"
    }
   ],
   "source": [
    "from sklearn.tree import DecisionTreeClassifier\n",
    "from sklearn.datasets import load_breast_cancer\n",
    "from sklearn.model_selection import train_test_split\n",
    "import pandas as pd\n",
    "pd.set_option('display.max_rows', None)\n",
    "\n",
    "cancer=load_breast_cancer()\n",
    "cancer\n",
    "X_train, X_test, y_train, y_test = train_test_split(cancer.data, cancer.target, stratify=cancer.target, random_state=42)\n",
    "tree=DecisionTreeClassifier(random_state=0)\n",
    "tree.fit(X_train, y_train)\n",
    "print(\"Accuracy on Training set\", tree.score(X_train, y_train))\n",
    "print(\"Accuracy on test set: {:.3f}\".format(tree.score(X_test, y_test)))\n",
    "cancer.data\n",
    "cancer.target"
   ]
  },
  {
   "cell_type": "code",
   "execution_count": null,
   "id": "d957905c",
   "metadata": {
    "ExecuteTime": {
     "end_time": "2024-03-06T09:13:46.889099Z",
     "start_time": "2024-03-06T09:13:46.888082Z"
    }
   },
   "outputs": [],
   "source": [
    "# Limiting the depth of tree decreases overfitting"
   ]
  },
  {
   "cell_type": "markdown",
   "id": "be8f921b",
   "metadata": {},
   "source": [
    "from sklearn.tree import DecisionTreeClassifier"
   ]
  },
  {
   "cell_type": "code",
   "execution_count": null,
   "id": "3149d387",
   "metadata": {
    "ExecuteTime": {
     "end_time": "2024-03-06T09:13:46.901395Z",
     "start_time": "2024-03-06T09:13:46.901395Z"
    }
   },
   "outputs": [],
   "source": [
    "tree=DecisionTreeClassifier(max_depth=4, random_state=0)\n",
    "tree.fit(X_train, y_train)\n",
    "print(\"Accuracy on training set: {:.3f}\".format(tree.score(X_train, y_train)))\n",
    "print(\"Accuracy on test set: {:.3f}\".format(tree.score(X_test, y_test)))"
   ]
  },
  {
   "cell_type": "markdown",
   "id": "c42edf42",
   "metadata": {},
   "source": [
    "Tree can be visualized using the export_graphiz function, writes a .dot file format"
   ]
  },
  {
   "cell_type": "code",
   "execution_count": null,
   "id": "eaa7050f",
   "metadata": {
    "ExecuteTime": {
     "end_time": "2024-03-06T09:13:46.912685Z",
     "start_time": "2024-03-06T09:13:46.912685Z"
    }
   },
   "outputs": [],
   "source": [
    "from sklearn.tree import export_graphviz\n",
    "export_graphviz(tree, out_file=\"tree.dot\", class_names=[\"malignant\", \"benign\"], feature_names=cancer.feature_names, \n",
    "               impurity=False, filled=True)"
   ]
  },
  {
   "cell_type": "code",
   "execution_count": null,
   "id": "20339b2d",
   "metadata": {
    "ExecuteTime": {
     "end_time": "2024-03-06T09:13:46.923838Z",
     "start_time": "2024-03-06T09:13:46.923838Z"
    }
   },
   "outputs": [],
   "source": [
    "%%html\n",
    "<p style=\"color:yellow; font-size:20px\">This wriiten tree.dot file can be visualized using the graphviz module</p>"
   ]
  },
  {
   "cell_type": "code",
   "execution_count": null,
   "id": "a263401c",
   "metadata": {
    "ExecuteTime": {
     "end_time": "2024-03-06T09:13:46.933456Z",
     "start_time": "2024-03-06T09:13:46.933456Z"
    },
    "code_folding": [
     10
    ]
   },
   "outputs": [],
   "source": [
    "import graphviz\n",
    "import matplotlib.pyplot as plt\n",
    "plt.rcParams.update({\n",
    "    \"figure.facecolor\":\"black\",\n",
    "    \"axes.facecolor\":\"black\",\n",
    "    \"axes.edgecolor\":\"green\",\n",
    "    \"xtick.color\":\"yellow\",\n",
    "    \"ytick.color\":\"red\",\n",
    "    \"legend.labelcolor\":\"linecolor\"\n",
    "})\n",
    "with open(\"tree.dot\") as f:\n",
    "    dot_graph = f.read()\n",
    "graphviz.Source(dot_graph)"
   ]
  },
  {
   "cell_type": "code",
   "execution_count": null,
   "id": "30f6affd",
   "metadata": {
    "ExecuteTime": {
     "end_time": "2024-03-06T09:13:46.943455Z",
     "start_time": "2024-03-06T09:13:46.943455Z"
    }
   },
   "outputs": [],
   "source": [
    "print(\"Feature Importances:\\n{}\".format(tree.feature_importances_))"
   ]
  },
  {
   "cell_type": "code",
   "execution_count": 8,
   "id": "c1ed2ae4",
   "metadata": {
    "ExecuteTime": {
     "end_time": "2024-03-06T09:16:32.951719Z",
     "start_time": "2024-03-06T09:16:31.541507Z"
    }
   },
   "outputs": [
    {
     "data": {
      "image/png": "[encoded data removed]",
      "text/plain": [
       "<Figure size 640x480 with 1 Axes>"
      ]
     },
     "metadata": {},
     "output_type": "display_data"
    }
   ],
   "source": [
    "def plot_feature_importances_cancer(model):\n",
    "    n_features = cancer.data.shape[1]\n",
    "    plt.barh(range(n_features), model.feature_importances_, align='center')\n",
    "    plt.yticks(np.arange(n_features), cancer.feature_names)\n",
    "    plt.xlabel(\"Feature Importance\")\n",
    "    plt.ylabel(\"Feature\")\n",
    "plot_feature_importances_cancer(tree)"
   ]
  },
  {
   "cell_type": "markdown",
   "id": "87ea1fff",
   "metadata": {},
   "source": [
    "j"
   ]
  },
  {
   "cell_type": "code",
   "execution_count": 10,
   "id": "1173eb2b",
   "metadata": {
    "ExecuteTime": {
     "end_time": "2024-03-06T09:20:14.321021Z",
     "start_time": "2024-03-06T09:20:13.184910Z"
    }
   },
   "outputs": [
    {
     "data": {
      "text/plain": [
       "<function mglearn.plot_tree_nonmonotonous.plot_tree_not_monotone()>"
      ]
     },
     "metadata": {},
     "output_type": "display_data"
    }
   ],
   "source": [
    "import mglearn\n",
    "tree=mglearn.plots.plot_tree_not_monotone\n",
    "display(tree)"
   ]
  },
  {
   "cell_type": "code",
   "execution_count": 12,
   "id": "bfff1ac0",
   "metadata": {
    "ExecuteTime": {
     "end_time": "2024-03-06T09:22:05.313011Z",
     "start_time": "2024-03-06T09:22:05.305311Z"
    }
   },
   "outputs": [
    {
     "data": {
      "text/plain": [
       "<function mglearn.plot_tree_nonmonotonous.plot_tree_not_monotone()>"
      ]
     },
     "execution_count": 12,
     "metadata": {},
     "output_type": "execute_result"
    }
   ],
   "source": [
    "tree"
   ]
  },
  {
   "cell_type": "code",
   "execution_count": 13,
   "id": "8b56ef66",
   "metadata": {
    "ExecuteTime": {
     "end_time": "2024-03-06T09:23:32.649154Z",
     "start_time": "2024-03-06T09:23:29.506630Z"
    }
   },
   "outputs": [
    {
     "name": "stderr",
     "output_type": "stream",
     "text": [
      "warning: in the working copy of '.ipynb_checkpoints/Linear Model for multi-class classification-checkpoint.ipynb', LF will be replaced by CRLF the next time Git touches it\n",
      "warning: in the working copy of 'Linear Model for multi-class classification.ipynb', LF will be replaced by CRLF the next time Git touches it\n",
      "warning: in the working copy of '.ipynb_checkpoints/Naive Bayes Classifier-checkpoint.ipynb', LF will be replaced by CRLF the next time Git touches it\n",
      "warning: in the working copy of 'Naive Bayes Classifier.ipynb', LF will be replaced by CRLF the next time Git touches it\n",
      "error: pathspec ''com'' did not match any file(s) known to git\n",
      "Everything up-to-date\n"
     ]
    }
   ],
   "source": [
    "!git add .\n",
    "!git commit -m -a 'com'\n",
    "!git push origin main"
   ]
  },
  {
   "cell_type": "code",
   "execution_count": null,
   "id": "ad802ff4",
   "metadata": {},
   "outputs": [],
   "source": []
  }
 ],
 "metadata": {
  "kernelspec": {
   "display_name": "Python 3 (ipykernel)",
   "language": "python",
   "name": "python3"
  },
  "language_info": {
   "codemirror_mode": {
    "name": "ipython",
    "version": 3
   },
   "file_extension": ".py",
   "mimetype": "text/x-python",
   "name": "python",
   "nbconvert_exporter": "python",
   "pygments_lexer": "ipython3",
   "version": "3.11.5"
  },
  "toc": {
   "base_numbering": 1,
   "nav_menu": {},
   "number_sections": true,
   "sideBar": true,
   "skip_h1_title": false,
   "title_cell": "Table of Contents",
   "title_sidebar": "Contents",
   "toc_cell": false,
   "toc_position": {},
   "toc_section_display": true,
   "toc_window_display": false
  },
  "varInspector": {
   "cols": {
    "lenName": 16,
    "lenType": 16,
    "lenVar": 40
   },
   "kernels_config": {
    "python": {
     "delete_cmd_postfix": "",
     "delete_cmd_prefix": "del ",
     "library": "var_list.py",
     "varRefreshCmd": "print(var_dic_list())"
    },
    "r": {
     "delete_cmd_postfix": ") ",
     "delete_cmd_prefix": "rm(",
     "library": "var_list.r",
     "varRefreshCmd": "cat(var_dic_list()) "
    }
   },
   "types_to_exclude": [
    "module",
    "function",
    "builtin_function_or_method",
    "instance",
    "_Feature"
   ],
   "window_display": false
  }
 },
 "nbformat": 4,
 "nbformat_minor": 5
}
